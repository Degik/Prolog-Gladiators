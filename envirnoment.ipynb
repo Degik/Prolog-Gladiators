{
 "cells": [
  {
   "cell_type": "code",
   "execution_count": null,
   "metadata": {},
   "outputs": [],
   "source": [
    "import gym\n",
    "import nle\n",
    "import time\n",
    "import utils.utils as utils\n",
    "import minihack\n",
    "import numpy as np\n",
    "import utils.algorithms as algo\n",
    "import matplotlib.pyplot as plt\n",
    "\n",
    "from IPython import display\n",
    "from classAE import envClass\n",
    "from classAE import actionClass\n",
    "##\n",
    "#SEED\n",
    "seed = 40\n",
    "\n",
    "#Load Knowledgebase\n",
    "# Classe azioni\n",
    "agentAction = actionClass.AgentAction()\n",
    "\n",
    "#Generate level\n",
    "level = envClass.EnvMng()\n",
    "#level.addMonster()\n",
    "#level.addObject()\n",
    "level.addWeapon()\n",
    "level.generateObjects(seed)\n",
    "#level.generateMonsters(seed)\n",
    "env, state, game_map, game = level.createGame()\n",
    "level.printEnv()\n",
    "#\n",
    "#level.printDisplay()"
   ]
  },
  {
   "cell_type": "code",
   "execution_count": null,
   "metadata": {},
   "outputs": [],
   "source": [
    "agentAction.initActionStatus(game_map)"
   ]
  },
  {
   "cell_type": "code",
   "execution_count": null,
   "metadata": {},
   "outputs": [],
   "source": [
    "agentAction.startSearchWeapon(env, game, game_map)"
   ]
  }
 ],
 "metadata": {
  "kernelspec": {
   "display_name": "nle",
   "language": "python",
   "name": "python3"
  },
  "language_info": {
   "codemirror_mode": {
    "name": "ipython",
    "version": 3
   },
   "file_extension": ".py",
   "mimetype": "text/x-python",
   "name": "python",
   "nbconvert_exporter": "python",
   "pygments_lexer": "ipython3",
   "version": "3.8.18"
  }
 },
 "nbformat": 4,
 "nbformat_minor": 2
}
