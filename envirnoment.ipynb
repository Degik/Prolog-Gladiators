{
 "cells": [
  {
   "cell_type": "code",
   "execution_count": 1,
   "metadata": {},
   "outputs": [
    {
     "name": "stderr",
     "output_type": "stream",
     "text": [
      "ERROR: atom_chars/2: Arguments are not sufficiently instantiated\n"
     ]
    },
    {
     "ename": "PrologError",
     "evalue": "Caused by: 'consult('/Users/davidebulotta/Desktop/prolog gladiator/Prolog Gladiators/kb/kb.pl')'. Returned: 'error(instantiation_error, context(:(system, /(atom_chars, 2)), _654))'.",
     "output_type": "error",
     "traceback": [
      "\u001b[0;31m---------------------------------------------------------------------------\u001b[0m",
      "\u001b[0;31mPrologError\u001b[0m                               Traceback (most recent call last)",
      "Cell \u001b[0;32mIn[1], line 17\u001b[0m\n\u001b[1;32m     14\u001b[0m seed \u001b[38;5;241m=\u001b[39m \u001b[38;5;241m40\u001b[39m\n\u001b[1;32m     16\u001b[0m \u001b[38;5;66;03m#Load Knowledgebase\u001b[39;00m\n\u001b[0;32m---> 17\u001b[0m agentAction \u001b[38;5;241m=\u001b[39m \u001b[43mactionClass\u001b[49m\u001b[38;5;241;43m.\u001b[39;49m\u001b[43mAgentAction\u001b[49m\u001b[43m(\u001b[49m\u001b[43m)\u001b[49m\n\u001b[1;32m     19\u001b[0m \u001b[38;5;66;03m#Generate level\u001b[39;00m\n\u001b[1;32m     20\u001b[0m level \u001b[38;5;241m=\u001b[39m envClass\u001b[38;5;241m.\u001b[39mEnvMng()\n",
      "File \u001b[0;32m~/Desktop/prolog gladiator/Prolog Gladiators/classAE/actionClass.py:41\u001b[0m, in \u001b[0;36mAgentAction.__init__\u001b[0;34m(self)\u001b[0m\n\u001b[1;32m     39\u001b[0m \u001b[38;5;28;01mdef\u001b[39;00m \u001b[38;5;21m__init__\u001b[39m(\u001b[38;5;28mself\u001b[39m):\n\u001b[1;32m     40\u001b[0m     \u001b[38;5;28mself\u001b[39m\u001b[38;5;241m.\u001b[39mkb \u001b[38;5;241m=\u001b[39m Prolog()\n\u001b[0;32m---> 41\u001b[0m     \u001b[38;5;28;43mself\u001b[39;49m\u001b[38;5;241;43m.\u001b[39;49m\u001b[43mkb\u001b[49m\u001b[38;5;241;43m.\u001b[39;49m\u001b[43mconsult\u001b[49m\u001b[43m(\u001b[49m\u001b[38;5;124;43m'\u001b[39;49m\u001b[38;5;124;43m/Users/davidebulotta/Desktop/prolog gladiator/Prolog Gladiators/kb/kb.pl\u001b[39;49m\u001b[38;5;124;43m'\u001b[39;49m\u001b[43m)\u001b[49m\n",
      "File \u001b[0;32m~/opt/anaconda3/envs/nle/lib/python3.8/site-packages/pyswip/prolog.py:156\u001b[0m, in \u001b[0;36mProlog.consult\u001b[0;34m(cls, filename, catcherrors)\u001b[0m\n\u001b[1;32m    154\u001b[0m \u001b[38;5;129m@classmethod\u001b[39m\n\u001b[1;32m    155\u001b[0m \u001b[38;5;28;01mdef\u001b[39;00m \u001b[38;5;21mconsult\u001b[39m(\u001b[38;5;28mcls\u001b[39m, filename, catcherrors\u001b[38;5;241m=\u001b[39m\u001b[38;5;28;01mFalse\u001b[39;00m):\n\u001b[0;32m--> 156\u001b[0m     \u001b[38;5;28;43mnext\u001b[39;49m\u001b[43m(\u001b[49m\u001b[38;5;28;43mcls\u001b[39;49m\u001b[38;5;241;43m.\u001b[39;49m\u001b[43mquery\u001b[49m\u001b[43m(\u001b[49m\u001b[43mfilename\u001b[49m\u001b[38;5;241;43m.\u001b[39;49m\u001b[43mjoin\u001b[49m\u001b[43m(\u001b[49m\u001b[43m[\u001b[49m\u001b[38;5;124;43m\"\u001b[39;49m\u001b[38;5;124;43mconsult(\u001b[39;49m\u001b[38;5;124;43m'\u001b[39;49m\u001b[38;5;124;43m\"\u001b[39;49m\u001b[43m,\u001b[49m\u001b[43m \u001b[49m\u001b[38;5;124;43m\"\u001b[39;49m\u001b[38;5;124;43m'\u001b[39;49m\u001b[38;5;124;43m)\u001b[39;49m\u001b[38;5;124;43m\"\u001b[39;49m\u001b[43m]\u001b[49m\u001b[43m)\u001b[49m\u001b[43m,\u001b[49m\u001b[43m \u001b[49m\u001b[43mcatcherrors\u001b[49m\u001b[38;5;241;43m=\u001b[39;49m\u001b[43mcatcherrors\u001b[49m\u001b[43m)\u001b[49m\u001b[43m)\u001b[49m\n",
      "File \u001b[0;32m~/opt/anaconda3/envs/nle/lib/python3.8/site-packages/pyswip/prolog.py:126\u001b[0m, in \u001b[0;36mProlog._QueryWrapper.__call__\u001b[0;34m(self, query, maxresult, catcherrors, normalize)\u001b[0m\n\u001b[1;32m    123\u001b[0m     \u001b[38;5;28;01mif\u001b[39;00m PL_exception(swipl_qid):\n\u001b[1;32m    124\u001b[0m         term \u001b[38;5;241m=\u001b[39m getTerm(PL_exception(swipl_qid))\n\u001b[0;32m--> 126\u001b[0m         \u001b[38;5;28;01mraise\u001b[39;00m PrologError(\u001b[38;5;124m\"\u001b[39m\u001b[38;5;124m\"\u001b[39m\u001b[38;5;241m.\u001b[39mjoin([\u001b[38;5;124m\"\u001b[39m\u001b[38;5;124mCaused by: \u001b[39m\u001b[38;5;124m'\u001b[39m\u001b[38;5;124m\"\u001b[39m, query, \u001b[38;5;124m\"\u001b[39m\u001b[38;5;124m'\u001b[39m\u001b[38;5;124m. \u001b[39m\u001b[38;5;124m\"\u001b[39m,\n\u001b[1;32m    127\u001b[0m                                    \u001b[38;5;124m\"\u001b[39m\u001b[38;5;124mReturned: \u001b[39m\u001b[38;5;124m'\u001b[39m\u001b[38;5;124m\"\u001b[39m, \u001b[38;5;28mstr\u001b[39m(term), \u001b[38;5;124m\"\u001b[39m\u001b[38;5;124m'\u001b[39m\u001b[38;5;124m.\u001b[39m\u001b[38;5;124m\"\u001b[39m]))\n\u001b[1;32m    129\u001b[0m \u001b[38;5;28;01mfinally\u001b[39;00m: \u001b[38;5;66;03m# This ensures that, whatever happens, we close the query\u001b[39;00m\n\u001b[1;32m    130\u001b[0m     PL_cut_query(swipl_qid)\n",
      "\u001b[0;31mPrologError\u001b[0m: Caused by: 'consult('/Users/davidebulotta/Desktop/prolog gladiator/Prolog Gladiators/kb/kb.pl')'. Returned: 'error(instantiation_error, context(:(system, /(atom_chars, 2)), _654))'."
     ]
    }
   ],
   "source": [
    "import gym\n",
    "import nle\n",
    "import utils.utils as utils\n",
    "import minihack\n",
    "import numpy as np\n",
    "import utils.algorithms as algo\n",
    "import matplotlib.pyplot as plt\n",
    "import IPython.display as display\n",
    "\n",
    "from classAE import envClass\n",
    "from classAE import actionClass\n",
    "##\n",
    "#SEED\n",
    "seed = 40\n",
    "\n",
    "#Load Knowledgebase\n",
    "agentAction = actionClass.AgentAction()\n",
    "\n",
    "#Generate level\n",
    "level = envClass.EnvMng()\n",
    "#level.addMonster()\n",
    "#level.addObject()\n",
    "level.addWeapon()\n",
    "level.generateObjects(seed)\n",
    "level.createGame()\n",
    "level.printEnv()\n",
    "\n",
    "#We can start the agent inside the level generated"
   ]
  }
 ],
 "metadata": {
  "kernelspec": {
   "display_name": "nle",
   "language": "python",
   "name": "python3"
  },
  "language_info": {
   "codemirror_mode": {
    "name": "ipython",
    "version": 3
   },
   "file_extension": ".py",
   "mimetype": "text/x-python",
   "name": "python",
   "nbconvert_exporter": "python",
   "pygments_lexer": "ipython3",
   "version": "3.8.18"
  }
 },
 "nbformat": 4,
 "nbformat_minor": 2
}
